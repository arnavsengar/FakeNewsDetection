{
 "cells": [
  {
   "cell_type": "code",
   "execution_count": 19,
   "metadata": {},
   "outputs": [],
   "source": [
    "import pandas as pd\n",
    "import numpy as np\n",
    "from sklearn.model_selection import train_test_split\n",
    "from sklearn.metrics import classification_report\n",
    "import re\n",
    "import string\n",
    "import seaborn as sns\n",
    "import matplotlib.pyplot as plt\n",
    "from sklearn.metrics import accuracy_score\n",
    "from sklearn.feature_extraction.text import TfidfVectorizer"
   ]
  },
  {
   "cell_type": "code",
   "execution_count": 20,
   "metadata": {},
   "outputs": [],
   "source": [
    "df_fake=pd.read_csv(\"Fake.csv\")\n",
    "df_true=pd.read_csv(\"True.csv\")"
   ]
  },
  {
   "cell_type": "code",
   "execution_count": 21,
   "metadata": {},
   "outputs": [],
   "source": [
    "df_fake[\"class\"] = 0\n",
    "df_true[\"class\"] = 1"
   ]
  },
  {
   "cell_type": "code",
   "execution_count": 22,
   "metadata": {},
   "outputs": [],
   "source": [
    "df_marge = pd.concat([df_fake, df_true], axis =0 )"
   ]
  },
  {
   "cell_type": "code",
   "execution_count": 23,
   "metadata": {},
   "outputs": [],
   "source": [
    "df = df_marge.drop([\"title\", \"subject\",\"date\"], axis = 1)"
   ]
  },
  {
   "cell_type": "code",
   "execution_count": 24,
   "metadata": {},
   "outputs": [],
   "source": [
    "df = df.sample(frac = 1)"
   ]
  },
  {
   "cell_type": "code",
   "execution_count": 25,
   "metadata": {},
   "outputs": [],
   "source": [
    "df.reset_index(inplace = True)\n",
    "df.drop([\"index\"], axis = 1, inplace = True)"
   ]
  },
  {
   "cell_type": "code",
   "execution_count": 26,
   "metadata": {},
   "outputs": [],
   "source": [
    "def wordopt(text):\n",
    "    text = text.lower()\n",
    "    text = re.sub('\\[.*?\\]', '', text)\n",
    "    text = re.sub(\"\\\\W\",\" \",text) \n",
    "    text = re.sub('https?://\\S+|www\\.\\S+', '', text)\n",
    "    text = re.sub('<.*?>+', '', text)\n",
    "    text = re.sub('[%s]' % re.escape(string.punctuation), '', text)\n",
    "    text = re.sub('\\n', '', text)\n",
    "    text = re.sub('\\w*\\d\\w*', '', text)    \n",
    "    return text"
   ]
  },
  {
   "cell_type": "code",
   "execution_count": 27,
   "metadata": {},
   "outputs": [],
   "source": [
    "df[\"text\"] = df[\"text\"].apply(wordopt)"
   ]
  },
  {
   "cell_type": "code",
   "execution_count": 28,
   "metadata": {},
   "outputs": [],
   "source": [
    "x = df[\"text\"]\n",
    "y = df[\"class\"]"
   ]
  },
  {
   "cell_type": "code",
   "execution_count": 29,
   "metadata": {},
   "outputs": [],
   "source": [
    "x_train, x_test, y_train, y_test = train_test_split(x, y, test_size=0.25)"
   ]
  },
  {
   "cell_type": "code",
   "execution_count": 30,
   "metadata": {},
   "outputs": [],
   "source": [
    "vectorization = TfidfVectorizer()\n",
    "xv_train = vectorization.fit_transform(x_train)\n",
    "xv_test = vectorization.transform(x_test)"
   ]
  },
  {
   "cell_type": "markdown",
   "metadata": {},
   "source": [
    "# LOGISTIC REGRESSION"
   ]
  },
  {
   "cell_type": "code",
   "execution_count": 31,
   "metadata": {},
   "outputs": [],
   "source": [
    "from sklearn.linear_model import LogisticRegression"
   ]
  },
  {
   "cell_type": "code",
   "execution_count": 32,
   "metadata": {},
   "outputs": [
    {
     "data": {
      "text/plain": [
       "LogisticRegression()"
      ]
     },
     "execution_count": 32,
     "metadata": {},
     "output_type": "execute_result"
    }
   ],
   "source": [
    "LR = LogisticRegression()\n",
    "LR.fit(xv_train,y_train)"
   ]
  },
  {
   "cell_type": "code",
   "execution_count": 33,
   "metadata": {},
   "outputs": [],
   "source": [
    "pred_lr=LR.predict(xv_test)"
   ]
  },
  {
   "cell_type": "code",
   "execution_count": 34,
   "metadata": {},
   "outputs": [
    {
     "name": "stdout",
     "output_type": "stream",
     "text": [
      "Test score: 98.67 %\n",
      "              precision    recall  f1-score   support\n",
      "\n",
      "           0       0.99      0.99      0.99      5887\n",
      "           1       0.98      0.99      0.99      5338\n",
      "\n",
      "    accuracy                           0.99     11225\n",
      "   macro avg       0.99      0.99      0.99     11225\n",
      "weighted avg       0.99      0.99      0.99     11225\n",
      "\n"
     ]
    }
   ],
   "source": [
    "sc=LR.score(xv_test, y_test)\n",
    "print(\"Test score: {0:.2f} %\".format(100 * sc))\n",
    "print(classification_report(y_test, pred_lr))"
   ]
  },
  {
   "cell_type": "code",
   "execution_count": 35,
   "metadata": {},
   "outputs": [],
   "source": [
    "def output_lable(n):\n",
    "    if n == 0:\n",
    "        return \"Fake News\"\n",
    "    elif n == 1:\n",
    "        return \"Not A Fake News\"\n",
    "    \n",
    "def manual_testing(news):\n",
    "    testing_news = {\"text\":[news]}\n",
    "    new_def_test = pd.DataFrame(testing_news)\n",
    "    new_def_test[\"text\"] = new_def_test[\"text\"].apply(wordopt) \n",
    "    new_x_test = new_def_test[\"text\"]\n",
    "    new_xv_test = vectorization.transform(new_x_test)\n",
    "    pred_LR = LR.predict(new_xv_test)\n",
    "\n",
    "    return print(\"\\n\\nLR Prediction: {} \".format(output_lable(pred_LR[0]),))\n"
   ]
  },
  {
   "cell_type": "code",
   "execution_count": 36,
   "metadata": {},
   "outputs": [
    {
     "name": "stdout",
     "output_type": "stream",
     "text": [
      "When life in her country became too dangerous, Natalia* took her children and fled. She managed to cross into Mexico via the southern border, but once she arrived in the country, she had no means of providing for herself and her family.   Her story is similar to those of many other desperate people who head to Mexico, increasingly seen as a country of transit and asylum: In 2014, 2,100 people arrived in the country to request refugee status; five years later, in 2019, that had risen to more than 70,000.  The figures dropped in 2020, as travel restrictions imposed as a result of the COVID-19 pandemic slowed global migration but, between January and November 2021, the country received more than 123,000 asylum requests from people coming from Caribbean, Central American and South American countries (Haiti, Honduras, Cuba, El Salvador, Chile, Venezuela, Guatemala, Nicaragua, Brazil and Colombia).  Natalia and her children are now being supported by the UN refugee agency, (UNHCR), which has found them a safe place to live, and psychological aid. Many others in a similar situation are being supported with life-saving information and other kinds of assistance at the shelters and institutions that work together with UN agencies in Mexico. UNHCR staff assist a migrant at the Olympic Stadium in Tapachula, Chiapas, in November 2021. UNIC Mexico/ Luis Arroyo UNHCR staff assist a migrant at the Olympic Stadium in Tapachula, Chiapas, in November 2021. A build up on the border  As of July 2021, 70 per cent of asylum requests were concentrated in the border town of Chiapas, which receives daily flights of people expelled from the United States under Title 42 legislation (a public health order issued in March 2020 by the Trump administration, which justifies the expulsions on the grounds that there is a communicable disease, namely COVID-19, in the migrant’s country of origin).  Here, the close coordination of the UN agencies with the Mexican authorities is an important element in ensuring that people on the move are able to integrate well with the local host communities, and that they are able to prevent discrimination, xenophobia, and other forms of rejection.\n",
      "\n",
      "\n",
      "LR Prediction: Fake News \n"
     ]
    }
   ],
   "source": [
    "news = str(input())\n",
    "manual_testing(news)"
   ]
  },
  {
   "cell_type": "code",
   "execution_count": 37,
   "metadata": {},
   "outputs": [],
   "source": [
    "import pickle\n",
    "pickle.dump(LR,open('model.pkl', 'wb'))"
   ]
  },
  {
   "cell_type": "code",
   "execution_count": 38,
   "metadata": {},
   "outputs": [
    {
     "name": "stdout",
     "output_type": "stream",
     "text": [
      "Test score: 98.67 %\n"
     ]
    }
   ],
   "source": [
    "# load the model from disk\n",
    "loaded_model = pickle.load(open('model.pkl', 'rb'))\n",
    "score = loaded_model.score(xv_test, y_test)\n",
    "print(\"Test score: {0:.2f} %\".format(100 * score))\n",
    "\n",
    "def model_testing(news):\n",
    "    testing_news = {\"text\":[news]}\n",
    "    new_def_test = pd.DataFrame(testing_news)\n",
    "    new_def_test[\"text\"] = new_def_test[\"text\"].apply(wordopt) \n",
    "    new_x_test = new_def_test[\"text\"]\n",
    "    new_xv_test = vectorization.transform(new_x_test)\n",
    "    pred_LR1 = loaded_model.predict(new_xv_test)\n",
    "\n",
    "    return print(\"\\n\\nModel Prediction: {} \".format(output_lable(pred_LR1[0]),))"
   ]
  },
  {
   "cell_type": "code",
   "execution_count": 39,
   "metadata": {},
   "outputs": [
    {
     "name": "stdout",
     "output_type": "stream",
     "text": [
      "When life in her country became too dangerous, Natalia* took her children and fled. She managed to cross into Mexico via the southern border, but once she arrived in the country, she had no means of providing for herself and her family.   Her story is similar to those of many other desperate people who head to Mexico, increasingly seen as a country of transit and asylum: In 2014, 2,100 people arrived in the country to request refugee status; five years later, in 2019, that had risen to more than 70,000.  The figures dropped in 2020, as travel restrictions imposed as a result of the COVID-19 pandemic slowed global migration but, between January and November 2021, the country received more than 123,000 asylum requests from people coming from Caribbean, Central American and South American countries (Haiti, Honduras, Cuba, El Salvador, Chile, Venezuela, Guatemala, Nicaragua, Brazil and Colombia).  Natalia and her children are now being supported by the UN refugee agency, (UNHCR), which has found them a safe place to live, and psychological aid. Many others in a similar situation are being supported with life-saving information and other kinds of assistance at the shelters and institutions that work together with UN agencies in Mexico. UNHCR staff assist a migrant at the Olympic Stadium in Tapachula, Chiapas, in November 2021. UNIC Mexico/ Luis Arroyo UNHCR staff assist a migrant at the Olympic Stadium in Tapachula, Chiapas, in November 2021. A build up on the border  As of July 2021, 70 per cent of asylum requests were concentrated in the border town of Chiapas, which receives daily flights of people expelled from the United States under Title 42 legislation (a public health order issued in March 2020 by the Trump administration, which justifies the expulsions on the grounds that there is a communicable disease, namely COVID-19, in the migrant’s country of origin).  Here, the close coordination of the UN agencies with the Mexican authorities is an important element in ensuring that people on the move are able to integrate well with the local host communities, and that they are able to prevent discrimination, xenophobia, and other forms of rejection.\n",
      "\n",
      "\n",
      "Model Prediction: Fake News \n"
     ]
    }
   ],
   "source": [
    "news = str(input())\n",
    "model_testing(news)"
   ]
  },
  {
   "cell_type": "code",
   "execution_count": null,
   "metadata": {},
   "outputs": [],
   "source": []
  }
 ],
 "metadata": {
  "kernelspec": {
   "display_name": "Python 3",
   "language": "python",
   "name": "python3"
  },
  "language_info": {
   "codemirror_mode": {
    "name": "ipython",
    "version": 3
   },
   "file_extension": ".py",
   "mimetype": "text/x-python",
   "name": "python",
   "nbconvert_exporter": "python",
   "pygments_lexer": "ipython3",
   "version": "3.8.5"
  }
 },
 "nbformat": 4,
 "nbformat_minor": 4
}
